{
 "cells": [
  {
   "cell_type": "code",
   "execution_count": 1,
   "id": "21feeadf-dc0d-45e1-8448-77ffc422cd0d",
   "metadata": {},
   "outputs": [],
   "source": [
    "import itertools\n",
    "import os\n",
    "\n",
    "import pandas as pd\n",
    "from scipy.stats import mannwhitneyu\n",
    "import numpy as np\n",
    "\n",
    "import utils"
   ]
  },
  {
   "cell_type": "code",
   "execution_count": 2,
   "id": "055742f3-7281-4593-b21a-b28279b7f428",
   "metadata": {},
   "outputs": [],
   "source": [
    "# Input parameters\n",
    "country_codes = ['ESP', 'EST', 'ETH', 'USA']\n",
    "dem_names = ['AW3D30', 'HydroSHEDS', 'MERIT', 'NASADEM', 'TanDEM']\n",
    "feature_types = ['basin', 'stream']"
   ]
  },
  {
   "cell_type": "code",
   "execution_count": 3,
   "id": "ad7c9e2c",
   "metadata": {},
   "outputs": [],
   "source": [
    "stat_name = 'forest_pct'"
   ]
  },
  {
   "cell_type": "code",
   "execution_count": 4,
   "id": "6de9a3a7-c028-4373-be0e-01e1e27a6c45",
   "metadata": {},
   "outputs": [],
   "source": [
    "for feature_type in feature_types:\n",
    "    out_fp = f'D:/dem_comparison/data/mannwhitneyu_{stat_name}_{feature_type}.xlsx'\n",
    "    if os.path.exists(out_fp):\n",
    "        os.remove(out_fp)\n",
    "    for country_code in country_codes:\n",
    "        merged = utils.merge_stats_for_plot(country_code, dem_names, feature_type, stat_name)\n",
    "        merged[f'{stat_name}_class'] = merged.apply(utils.get_class_func(stat_name), axis=1)\n",
    "        stat_classes = merged[f'{stat_name}_class'].unique()\n",
    "        row_list = []\n",
    "        for dem_name in dem_names:\n",
    "            for class_pair in itertools.combinations(stat_classes, 2):\n",
    "                class_1 = class_pair[0]\n",
    "                class_2 = class_pair[1]\n",
    "                subset_1 = merged.loc[merged[f'{stat_name}_class'] == class_1]\n",
    "                subset_2 = merged.loc[merged[f'{stat_name}_class'] == class_2]\n",
    "                x = subset_1.loc[subset_1['dem_name'] == dem_name]['dist_to_ref'].to_list()\n",
    "                y = subset_2.loc[subset_2['dem_name'] == dem_name]['dist_to_ref'].to_list()\n",
    "                try:\n",
    "                    U1, p = mannwhitneyu(x, y)\n",
    "                    U1 = round(U1, 1)\n",
    "                    p = round(p, 3)\n",
    "                except ValueError:\n",
    "                    U1 = np.nan\n",
    "                    p = np.nan\n",
    "                catchment_name = utils.get_catchment_name(country_code)\n",
    "                if p < 0.05:\n",
    "                    significance = 1\n",
    "                else:\n",
    "                    significance = 0\n",
    "                row = (\n",
    "                    catchment_name,\n",
    "                    country_code,\n",
    "                    dem_name,\n",
    "                    feature_type,\n",
    "                    stat_name,\n",
    "                    class_1,\n",
    "                    len(x),\n",
    "                    class_2,\n",
    "                    len(y),\n",
    "                    U1,\n",
    "                    p,\n",
    "                    significance\n",
    "                )\n",
    "                row_list.append(row)\n",
    "        out_df_columns = [\n",
    "            'catchment_name',\n",
    "            'country_code',\n",
    "            'dem_name',\n",
    "            'feature_type',\n",
    "            'stat_name',\n",
    "            'class_1',\n",
    "            'count_1',\n",
    "            'class_2',\n",
    "            'count_2',\n",
    "            'U',\n",
    "            'p',\n",
    "            'significant'\n",
    "        ]\n",
    "        out_df = pd.DataFrame(row_list, columns=out_df_columns)\n",
    "        display(out_df)\n",
    "        if not os.path.exists(out_fp):\n",
    "            out_df.to_excel(out_fp, sheet_name=catchment_name, index=False)\n",
    "        else:\n",
    "            with pd.ExcelWriter(out_fp, mode='a') as writer:\n",
    "                out_df.to_excel(writer, sheet_name=catchment_name, index=False)"
   ]
  }
 ],
 "metadata": {
  "kernelspec": {
   "display_name": "hydro",
   "language": "python",
   "name": "hydro"
  },
  "language_info": {
   "codemirror_mode": {
    "name": "ipython",
    "version": 3
   },
   "file_extension": ".py",
   "mimetype": "text/x-python",
   "name": "python",
   "nbconvert_exporter": "python",
   "pygments_lexer": "ipython3",
   "version": "3.10.6"
  }
 },
 "nbformat": 4,
 "nbformat_minor": 5
}
